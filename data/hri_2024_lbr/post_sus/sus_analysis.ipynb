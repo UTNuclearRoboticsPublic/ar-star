{
 "cells": [
  {
   "cell_type": "code",
   "execution_count": 20,
   "metadata": {},
   "outputs": [],
   "source": [
    "import pandas as pd\n",
    "import matplotlib.pyplot as plt\n",
    "from scipy.stats import f_oneway\n",
    "import seaborn as sns"
   ]
  },
  {
   "cell_type": "code",
   "execution_count": 21,
   "metadata": {},
   "outputs": [],
   "source": [
    "# import csv\n",
    "data_path = 'combined_sus_results.csv'\n",
    "\n",
    "# Load SUS data from CSV\n",
    "try:\n",
    "    data = pd.read_csv(data_path)\n",
    "except FileNotFoundError:\n",
    "    print(f\"Error: File '{data_path}' not found.\")\n",
    "    exit()\n"
   ]
  },
  {
   "cell_type": "code",
   "execution_count": 22,
   "metadata": {},
   "outputs": [],
   "source": [
    "# REF: J. Brooke, “SUS: A ‘Quick and Dirty’ Usability Scale,” in Usability Evaluation In Industry, CRC Press, 1996.\n",
    "\n",
    "def calculate_sus_score(responses):\n",
    "\n",
    "    sum = 0\n",
    "    for i in range(2, 12):\n",
    "        # split between odd and even scores\n",
    "        if (i % 2 == 0 ):\n",
    "            odd_score = (responses[i] - 1)  # positive questions (odd numbers)\n",
    "            sum += odd_score\n",
    "        else:\n",
    "            even_score = (5 - responses[i]) # negative questions (even numbers)\n",
    "            sum += even_score\n",
    "\n",
    "    # scale\n",
    "    sus = sum * 2.5\n",
    "    return sus"
   ]
  },
  {
   "cell_type": "code",
   "execution_count": 23,
   "metadata": {},
   "outputs": [
    {
     "name": "stdout",
     "output_type": "stream",
     "text": [
      "Raw SUS Statistics\n",
      "    Modality  Subject #  Q1  Q2  Q3  Q4  Q5  Q6  Q7  Q8  Q9  Q10  SUS_Score\n",
      "0          0          1   4   2   4   1   5   1   3   3   4    2       77.5\n",
      "1          0          2   3   3   2   3   4   2   2   3   1    1       50.0\n",
      "2          0          3   3   2   3   1   3   2   3   2   3    1       67.5\n",
      "3          0          4   4   2   3   2   3   1   4   1   4    1       77.5\n",
      "4          0          5   3   2   4   1   4   3   5   3   3    1       72.5\n",
      "5          1          1   3   3   3   1   5   2   4   4   3    1       67.5\n",
      "6          1          2   2   2   2   3   4   3   2   2   3    1       55.0\n",
      "7          1          3   4   2   3   1   3   2   3   1   3    1       72.5\n",
      "8          1          4   5   1   5   2   5   1   5   1   4    1       95.0\n",
      "9          1          5   5   1   4   2   4   2   5   3   3    1       80.0\n",
      "10         2          1   2   2   2   1   3   4   3   4   3    1       52.5\n",
      "11         2          2   3   2   4   4   4   2   5   1   2    1       70.0\n",
      "12         2          3   3   3   3   1   3   3   2   1   3    2       60.0\n",
      "13         2          4   4   2   3   2   4   1   4   2   3    1       75.0\n",
      "14         2          5   4   4   3   2   4   2   4   3   4    1       67.5\n",
      "\n",
      "Overall SUS Statistics:\n",
      "          count  mean        std   min   25%   50%   75%   max\n",
      "Modality                                                      \n",
      "0           5.0  69.0  11.401754  50.0  67.5  72.5  77.5  77.5\n",
      "1           5.0  74.0  14.853451  55.0  67.5  72.5  80.0  95.0\n",
      "2           5.0  65.0   8.838835  52.5  60.0  67.5  70.0  75.0\n"
     ]
    }
   ],
   "source": [
    "# Calculate SUS scores for each participant\n",
    "data['SUS_Score'] = data.apply(calculate_sus_score, axis=1)\n",
    "\n",
    "# Display raw SUS statistics\n",
    "print(\"Raw SUS Statistics\")\n",
    "print(data)\n",
    "\n",
    "# Display overall SUS statistics\n",
    "print(\"\\nOverall SUS Statistics:\")\n",
    "print(data.groupby('Modality')['SUS_Score'].describe())"
   ]
  },
  {
   "cell_type": "code",
   "execution_count": 24,
   "metadata": {},
   "outputs": [
    {
     "data": {
      "image/png": "[encoded data removed]",
      "text/plain": [
       "<Figure size 600x400 with 1 Axes>"
      ]
     },
     "metadata": {},
     "output_type": "display_data"
    }
   ],
   "source": [
    "# Box and whisker plot for SUS scores across modalities\n",
    "plt.figure(figsize=(6, 4))\n",
    "sns.boxplot(x='Modality', y='SUS_Score', data=data)\n",
    "\n",
    "plt.title('Box and Whisker Plot of SUS Scores Across Modalities')\n",
    "plt.xlabel('Modality')\n",
    "plt.ylabel('SUS Score')\n",
    "plt.grid('on')\n",
    "plt.show()"
   ]
  },
  {
   "cell_type": "code",
   "execution_count": 25,
   "metadata": {},
   "outputs": [],
   "source": [
    "# Visualize SUS scores across modalities\n",
    "# plt.figure(figsize=(6, 4))\n",
    "# for modality, subset in data.groupby('Modality'):\n",
    "#     plt.hist(subset['SUS_Score'], bins=20, edgecolor='black', alpha=0.5, label=modality)\n",
    "# plt.title('Distribution of SUS Scores Across Modalities')\n",
    "# plt.xlabel('SUS Score')\n",
    "# plt.ylabel('Frequency')\n",
    "# plt.legend()\n",
    "# plt.grid('on')\n",
    "# plt.show()"
   ]
  },
  {
   "cell_type": "code",
   "execution_count": 26,
   "metadata": {},
   "outputs": [
    {
     "name": "stdout",
     "output_type": "stream",
     "text": [
      "\n",
      "ANOVA Results:\n",
      "F-statistic: 0.7113702623906706\n",
      "P-value: 0.5105523820549981\n"
     ]
    }
   ],
   "source": [
    "# Perform ANOVA for statistical comparison\n",
    "modality_groups = [subset['SUS_Score'] for modality, subset in data.groupby('Modality')]\n",
    "f_statistic, p_value = f_oneway(*modality_groups)\n",
    "\n",
    "# Display ANOVA results\n",
    "print(\"\\nANOVA Results:\")\n",
    "print(f\"F-statistic: {f_statistic}\")\n",
    "print(f\"P-value: {p_value}\")"
   ]
  }
 ],
 "metadata": {
  "kernelspec": {
   "display_name": "Python 3",
   "language": "python",
   "name": "python3"
  },
  "language_info": {
   "codemirror_mode": {
    "name": "ipython",
    "version": 3
   },
   "file_extension": ".py",
   "mimetype": "text/x-python",
   "name": "python",
   "nbconvert_exporter": "python",
   "pygments_lexer": "ipython3",
   "version": "3.8.10"
  }
 },
 "nbformat": 4,
 "nbformat_minor": 2
}
